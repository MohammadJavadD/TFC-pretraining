{
 "cells": [
  {
   "cell_type": "code",
   "execution_count": 10,
   "metadata": {},
   "outputs": [],
   "source": [
    "import torch\n",
    "import argparse\n",
    "import os\n",
    "import numpy as np\n",
    "from datetime import datetime\n",
    "import argparse\n",
    "\n"
   ]
  },
  {
   "cell_type": "code",
   "execution_count": 11,
   "metadata": {},
   "outputs": [
    {
     "name": "stdout",
     "output_type": "stream",
     "text": [
      "Namespace(device='cuda', home_path='/home/mila/m/mohammad-javad.darvishi-bayasi/projects/TFC-pretraining', logs_save_dir='../experiments_logs', pretrain_dataset='HAR', run_description='run1', seed=42, target_dataset='Epilepsy', training_mode='fine_tune_test')\n"
     ]
    }
   ],
   "source": [
    "# Args selections\n",
    "start_time = datetime.now()\n",
    "parser = argparse.ArgumentParser()\n",
    "######################## Model parameters ########################\n",
    "home_dir = os.getcwd()\n",
    "parser.add_argument('--run_description', default='run1', type=str,\n",
    "                    help='Experiment Description')\n",
    "parser.add_argument('--seed', default=42, type=int, help='seed value')\n",
    "\n",
    "# 1. self_supervised pre_train; 2. finetune (itself contains finetune and test)\n",
    "parser.add_argument('--training_mode', default='fine_tune_test', type=str,\n",
    "                    help='pre_train, fine_tune_test')\n",
    "\n",
    "parser.add_argument('--pretrain_dataset', default='HAR', type=str,\n",
    "                    help='Dataset of choice: SleepEEG, FD_A, HAR, ECG')\n",
    "parser.add_argument('--target_dataset', default='Epilepsy', type=str,\n",
    "                    help='Dataset of choice: Epilepsy, FD_B, Gesture, EMG')\n",
    "\n",
    "parser.add_argument('--logs_save_dir', default='../experiments_logs', type=str,\n",
    "                    help='saving directory')\n",
    "parser.add_argument('--device', default='cuda', type=str,\n",
    "                    help='cpu or cuda')\n",
    "parser.add_argument('--home_path', default=home_dir, type=str,\n",
    "                    help='Project home directory')\n",
    "args, unknown = parser.parse_known_args()\n",
    "print(args)"
   ]
  },
  {
   "cell_type": "code",
   "execution_count": 12,
   "metadata": {},
   "outputs": [],
   "source": [
    "# load dataset\n",
    "sourcedata_path = f\"~/scratch/medical/datasets/{args.pretrain_dataset}\"\n",
    "targetdata_path = f\"~/scratch/medical/datasets/{ args.target_dataset}\"\n",
    "\n",
    "train_dataset = torch.load(os.path.join(os.path.expanduser(sourcedata_path), \"train.pt\"))\n"
   ]
  },
  {
   "cell_type": "code",
   "execution_count": 15,
   "metadata": {},
   "outputs": [
    {
     "name": "stdout",
     "output_type": "stream",
     "text": [
      "dict_keys(['samples', 'labels'])\n"
     ]
    },
    {
     "data": {
      "text/plain": [
       "torch.Size([5881, 3, 206])"
      ]
     },
     "execution_count": 15,
     "metadata": {},
     "output_type": "execute_result"
    }
   ],
   "source": [
    "print(train_dataset.keys())\n",
    "type(train_dataset)\n",
    "train_dataset['samples'].shape"
   ]
  },
  {
   "cell_type": "code",
   "execution_count": null,
   "metadata": {},
   "outputs": [],
   "source": []
  }
 ],
 "metadata": {
  "kernelspec": {
   "display_name": "Python 3",
   "language": "python",
   "name": "python3"
  },
  "language_info": {
   "codemirror_mode": {
    "name": "ipython",
    "version": 3
   },
   "file_extension": ".py",
   "mimetype": "text/x-python",
   "name": "python",
   "nbconvert_exporter": "python",
   "pygments_lexer": "ipython3",
   "version": "3.8.5"
  }
 },
 "nbformat": 4,
 "nbformat_minor": 2
}
